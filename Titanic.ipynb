{
  "nbformat": 4,
  "nbformat_minor": 0,
  "metadata": {
    "colab": {
      "provenance": [],
      "authorship_tag": "ABX9TyNdywSc05Akxnnac3NcN+Vk",
      "include_colab_link": true
    },
    "kernelspec": {
      "name": "python3",
      "display_name": "Python 3"
    },
    "language_info": {
      "name": "python"
    }
  },
  "cells": [
    {
      "cell_type": "markdown",
      "metadata": {
        "id": "view-in-github",
        "colab_type": "text"
      },
      "source": [
        "<a href=\"https://colab.research.google.com/github/Tirthankar4/Tirthankar4/blob/main/Titanic.ipynb\" target=\"_parent\"><img src=\"https://colab.research.google.com/assets/colab-badge.svg\" alt=\"Open In Colab\"/></a>"
      ]
    },
    {
      "cell_type": "code",
      "execution_count": 1,
      "metadata": {
        "id": "jxyHGXBgjlGp"
      },
      "outputs": [],
      "source": [
        "import numpy as np\n",
        "import pandas as pd\n",
        "import matplotlib.pyplot as plt\n",
        "import seaborn as sns"
      ]
    },
    {
      "cell_type": "code",
      "source": [
        "X = pd.read_csv(\"train.csv\", index_col = \"PassengerId\")\n",
        "X_test = pd.read_csv(\"test.csv\", index_col = \"PassengerId\")"
      ],
      "metadata": {
        "id": "bGGGXP-UpoC6"
      },
      "execution_count": 2,
      "outputs": []
    },
    {
      "cell_type": "code",
      "source": [
        "  will_drop_cols = [\"Name\", \"Ticket\",\"Fare\", \"Cabin\", \"Embarked\"]\n",
        "  X = X.drop(will_drop_cols, axis=1)\n",
        "  X_test = X_test.drop(will_drop_cols, axis=1)"
      ],
      "metadata": {
        "id": "VDWLA55wpt8t"
      },
      "execution_count": 3,
      "outputs": []
    },
    {
      "cell_type": "code",
      "source": [
        "y = X.pop(\"Survived\")"
      ],
      "metadata": {
        "id": "PlmjbL40vFz_"
      },
      "execution_count": 4,
      "outputs": []
    },
    {
      "cell_type": "code",
      "source": [
        "from re import L\n",
        "from sklearn.preprocessing import LabelEncoder\n",
        "\n",
        "gender = LabelEncoder()\n",
        "X['Sex'] = gender.fit_transform(X['Sex'])\n",
        "X_test['Sex'] = gender.transform(X_test['Sex'])"
      ],
      "metadata": {
        "id": "dtof75IYsv5K"
      },
      "execution_count": 5,
      "outputs": []
    },
    {
      "cell_type": "code",
      "source": [
        "from sklearn.ensemble import RandomForestRegressor\n",
        "from sklearn.model_selection import train_test_split\n",
        "\n",
        "known_age = X[X['Age'].notnull()]\n",
        "unknown_age = X[X['Age'].isnull()]\n",
        "\n",
        "X1 = known_age.drop('Age', axis=1)\n",
        "y1 = known_age['Age']\n",
        "\n",
        "rf = RandomForestRegressor(n_estimators=1000, n_jobs=-1)\n",
        "rf.fit(X1, y1)\n",
        "\n",
        "age_X = rf.predict(unknown_age.drop('Age', axis=1))\n",
        "\n",
        "X.loc[(X['Age'].isnull()), 'Age'] = age_X\n",
        "X_test['Age'] = rf.predict(X_test.drop('Age', axis=1))"
      ],
      "metadata": {
        "id": "e61mTHo-rgry"
      },
      "execution_count": 6,
      "outputs": []
    },
    {
      "cell_type": "code",
      "source": [
        "X.drop([\"SibSp\"], axis=1, inplace=True)\n",
        "X_test.drop([\"SibSp\"], axis=1, inplace=True)"
      ],
      "metadata": {
        "id": "uU2RPZcgz7B1"
      },
      "execution_count": 7,
      "outputs": []
    },
    {
      "cell_type": "code",
      "source": [
        "from sklearn.ensemble import RandomForestClassifier\n",
        "from sklearn.model_selection import GridSearchCV\n",
        "from sklearn.metrics import f1_score\n",
        "\n",
        "param_grid = {\n",
        "    'n_estimators':[69, 420, 696],\n",
        "    'max_features': ['sqrt', 'log2'],\n",
        "    'max_depth': [4, 6, 9],\n",
        "    'min_samples_split': [2, 3, 4],\n",
        "    'min_samples_leaf': [1, 2, 3],\n",
        "    'bootstrap': [True, False]\n",
        "}\n",
        "\n",
        "model = RandomForestClassifier(random_state = 69)\n",
        "\n",
        "grid_search = GridSearchCV(model, param_grid, cv=5, scoring='f1')\n",
        "grid_search.fit(X, y)\n",
        "\n",
        "best_params = grid_search.best_params_"
      ],
      "metadata": {
        "id": "u3--kjDawNGu"
      },
      "execution_count": 8,
      "outputs": []
    },
    {
      "cell_type": "code",
      "source": [
        "best_model = grid_search.best_estimator_\n",
        "predictions = best_model.predict(X_test)"
      ],
      "metadata": {
        "id": "8DgGyieUAm87"
      },
      "execution_count": 10,
      "outputs": []
    },
    {
      "cell_type": "code",
      "source": [
        "from sklearn.model_selection import train_test_split\n",
        "X_train, X_valid, y_train, y_valid = train_test_split(X,y, test_size = 0.2, random_state = 69)\n",
        "preds1 = best_model.predict(X_valid)\n",
        "from sklearn.metrics import classification_report\n",
        "print(classification_report(y_valid, preds1))"
      ],
      "metadata": {
        "colab": {
          "base_uri": "https://localhost:8080/"
        },
        "id": "luqOjMwwAtOF",
        "outputId": "59257c04-e365-4868-cab2-bb66a51e6c0e"
      },
      "execution_count": 12,
      "outputs": [
        {
          "output_type": "stream",
          "name": "stdout",
          "text": [
            "              precision    recall  f1-score   support\n",
            "\n",
            "           0       0.88      0.92      0.90       112\n",
            "           1       0.85      0.79      0.82        67\n",
            "\n",
            "    accuracy                           0.87       179\n",
            "   macro avg       0.87      0.86      0.86       179\n",
            "weighted avg       0.87      0.87      0.87       179\n",
            "\n"
          ]
        }
      ]
    },
    {
      "cell_type": "code",
      "source": [
        "X_copy = pd.read_csv(\"train.csv\", index_col = \"PassengerId\")\n",
        "X_test_copy = pd.read_csv(\"test.csv\", index_col = \"PassengerId\")"
      ],
      "metadata": {
        "id": "3UJU6_7NCFir"
      },
      "execution_count": 43,
      "outputs": []
    },
    {
      "cell_type": "code",
      "source": [
        "X['FamilySize'] = X_copy['SibSp'] + X_copy['Parch'] + 1\n",
        "X['IsAlone'] = (X['FamilySize'] == 1).astype(int)\n",
        "\n",
        "X_test['FamilySize'] = X_test_copy['SibSp'] + X_test_copy['Parch'] + 1\n",
        "X_test['IsAlone'] = (X_test['FamilySize'] == 1).astype(int)"
      ],
      "metadata": {
        "id": "UoRqzBKcDtfb"
      },
      "execution_count": 44,
      "outputs": []
    },
    {
      "cell_type": "code",
      "source": [
        "X.drop([\"Title\"], axis=1, inplace=True)\n",
        "X_test.drop([\"Title\"], axis=1, inplace=True)"
      ],
      "metadata": {
        "id": "fIxG2LlwFgzB"
      },
      "execution_count": 47,
      "outputs": []
    },
    {
      "cell_type": "code",
      "source": [
        "best_model.fit(X, y)\n",
        "predictions = best_model.predict(X_test)"
      ],
      "metadata": {
        "id": "lollcR1cD6tz"
      },
      "execution_count": 50,
      "outputs": []
    },
    {
      "cell_type": "code",
      "source": [
        "output = pd.DataFrame({\"PassengerId\": X_test.index, \"Survived\": predictions})\n",
        "output.to_csv(\"submission.csv\", index=False)"
      ],
      "metadata": {
        "id": "p_lH0qT3Go2O"
      },
      "execution_count": 51,
      "outputs": []
    },
    {
      "cell_type": "code",
      "source": [
        "grid_search = GridSearchCV(model, param_grid, cv=5, scoring='f1')\n",
        "grid_search.fit(X, y)"
      ],
      "metadata": {
        "colab": {
          "base_uri": "https://localhost:8080/",
          "height": 117
        },
        "id": "N8BqKY8iHIk5",
        "outputId": "f8ba1262-9d59-4c68-f620-89c7e1f742a3"
      },
      "execution_count": 52,
      "outputs": [
        {
          "output_type": "execute_result",
          "data": {
            "text/plain": [
              "GridSearchCV(cv=5, estimator=RandomForestClassifier(random_state=69),\n",
              "             param_grid={'bootstrap': [True, False], 'max_depth': [4, 6, 9],\n",
              "                         'max_features': ['sqrt', 'log2'],\n",
              "                         'min_samples_leaf': [1, 2, 3],\n",
              "                         'min_samples_split': [2, 3, 4],\n",
              "                         'n_estimators': [69, 420, 696]},\n",
              "             scoring='f1')"
            ],
            "text/html": [
              "<style>#sk-container-id-1 {color: black;background-color: white;}#sk-container-id-1 pre{padding: 0;}#sk-container-id-1 div.sk-toggleable {background-color: white;}#sk-container-id-1 label.sk-toggleable__label {cursor: pointer;display: block;width: 100%;margin-bottom: 0;padding: 0.3em;box-sizing: border-box;text-align: center;}#sk-container-id-1 label.sk-toggleable__label-arrow:before {content: \"▸\";float: left;margin-right: 0.25em;color: #696969;}#sk-container-id-1 label.sk-toggleable__label-arrow:hover:before {color: black;}#sk-container-id-1 div.sk-estimator:hover label.sk-toggleable__label-arrow:before {color: black;}#sk-container-id-1 div.sk-toggleable__content {max-height: 0;max-width: 0;overflow: hidden;text-align: left;background-color: #f0f8ff;}#sk-container-id-1 div.sk-toggleable__content pre {margin: 0.2em;color: black;border-radius: 0.25em;background-color: #f0f8ff;}#sk-container-id-1 input.sk-toggleable__control:checked~div.sk-toggleable__content {max-height: 200px;max-width: 100%;overflow: auto;}#sk-container-id-1 input.sk-toggleable__control:checked~label.sk-toggleable__label-arrow:before {content: \"▾\";}#sk-container-id-1 div.sk-estimator input.sk-toggleable__control:checked~label.sk-toggleable__label {background-color: #d4ebff;}#sk-container-id-1 div.sk-label input.sk-toggleable__control:checked~label.sk-toggleable__label {background-color: #d4ebff;}#sk-container-id-1 input.sk-hidden--visually {border: 0;clip: rect(1px 1px 1px 1px);clip: rect(1px, 1px, 1px, 1px);height: 1px;margin: -1px;overflow: hidden;padding: 0;position: absolute;width: 1px;}#sk-container-id-1 div.sk-estimator {font-family: monospace;background-color: #f0f8ff;border: 1px dotted black;border-radius: 0.25em;box-sizing: border-box;margin-bottom: 0.5em;}#sk-container-id-1 div.sk-estimator:hover {background-color: #d4ebff;}#sk-container-id-1 div.sk-parallel-item::after {content: \"\";width: 100%;border-bottom: 1px solid gray;flex-grow: 1;}#sk-container-id-1 div.sk-label:hover label.sk-toggleable__label {background-color: #d4ebff;}#sk-container-id-1 div.sk-serial::before {content: \"\";position: absolute;border-left: 1px solid gray;box-sizing: border-box;top: 0;bottom: 0;left: 50%;z-index: 0;}#sk-container-id-1 div.sk-serial {display: flex;flex-direction: column;align-items: center;background-color: white;padding-right: 0.2em;padding-left: 0.2em;position: relative;}#sk-container-id-1 div.sk-item {position: relative;z-index: 1;}#sk-container-id-1 div.sk-parallel {display: flex;align-items: stretch;justify-content: center;background-color: white;position: relative;}#sk-container-id-1 div.sk-item::before, #sk-container-id-1 div.sk-parallel-item::before {content: \"\";position: absolute;border-left: 1px solid gray;box-sizing: border-box;top: 0;bottom: 0;left: 50%;z-index: -1;}#sk-container-id-1 div.sk-parallel-item {display: flex;flex-direction: column;z-index: 1;position: relative;background-color: white;}#sk-container-id-1 div.sk-parallel-item:first-child::after {align-self: flex-end;width: 50%;}#sk-container-id-1 div.sk-parallel-item:last-child::after {align-self: flex-start;width: 50%;}#sk-container-id-1 div.sk-parallel-item:only-child::after {width: 0;}#sk-container-id-1 div.sk-dashed-wrapped {border: 1px dashed gray;margin: 0 0.4em 0.5em 0.4em;box-sizing: border-box;padding-bottom: 0.4em;background-color: white;}#sk-container-id-1 div.sk-label label {font-family: monospace;font-weight: bold;display: inline-block;line-height: 1.2em;}#sk-container-id-1 div.sk-label-container {text-align: center;}#sk-container-id-1 div.sk-container {/* jupyter's `normalize.less` sets `[hidden] { display: none; }` but bootstrap.min.css set `[hidden] { display: none !important; }` so we also need the `!important` here to be able to override the default hidden behavior on the sphinx rendered scikit-learn.org. See: https://github.com/scikit-learn/scikit-learn/issues/21755 */display: inline-block !important;position: relative;}#sk-container-id-1 div.sk-text-repr-fallback {display: none;}</style><div id=\"sk-container-id-1\" class=\"sk-top-container\"><div class=\"sk-text-repr-fallback\"><pre>GridSearchCV(cv=5, estimator=RandomForestClassifier(random_state=69),\n",
              "             param_grid={&#x27;bootstrap&#x27;: [True, False], &#x27;max_depth&#x27;: [4, 6, 9],\n",
              "                         &#x27;max_features&#x27;: [&#x27;sqrt&#x27;, &#x27;log2&#x27;],\n",
              "                         &#x27;min_samples_leaf&#x27;: [1, 2, 3],\n",
              "                         &#x27;min_samples_split&#x27;: [2, 3, 4],\n",
              "                         &#x27;n_estimators&#x27;: [69, 420, 696]},\n",
              "             scoring=&#x27;f1&#x27;)</pre><b>In a Jupyter environment, please rerun this cell to show the HTML representation or trust the notebook. <br />On GitHub, the HTML representation is unable to render, please try loading this page with nbviewer.org.</b></div><div class=\"sk-container\" hidden><div class=\"sk-item sk-dashed-wrapped\"><div class=\"sk-label-container\"><div class=\"sk-label sk-toggleable\"><input class=\"sk-toggleable__control sk-hidden--visually\" id=\"sk-estimator-id-1\" type=\"checkbox\" ><label for=\"sk-estimator-id-1\" class=\"sk-toggleable__label sk-toggleable__label-arrow\">GridSearchCV</label><div class=\"sk-toggleable__content\"><pre>GridSearchCV(cv=5, estimator=RandomForestClassifier(random_state=69),\n",
              "             param_grid={&#x27;bootstrap&#x27;: [True, False], &#x27;max_depth&#x27;: [4, 6, 9],\n",
              "                         &#x27;max_features&#x27;: [&#x27;sqrt&#x27;, &#x27;log2&#x27;],\n",
              "                         &#x27;min_samples_leaf&#x27;: [1, 2, 3],\n",
              "                         &#x27;min_samples_split&#x27;: [2, 3, 4],\n",
              "                         &#x27;n_estimators&#x27;: [69, 420, 696]},\n",
              "             scoring=&#x27;f1&#x27;)</pre></div></div></div><div class=\"sk-parallel\"><div class=\"sk-parallel-item\"><div class=\"sk-item\"><div class=\"sk-label-container\"><div class=\"sk-label sk-toggleable\"><input class=\"sk-toggleable__control sk-hidden--visually\" id=\"sk-estimator-id-2\" type=\"checkbox\" ><label for=\"sk-estimator-id-2\" class=\"sk-toggleable__label sk-toggleable__label-arrow\">estimator: RandomForestClassifier</label><div class=\"sk-toggleable__content\"><pre>RandomForestClassifier(random_state=69)</pre></div></div></div><div class=\"sk-serial\"><div class=\"sk-item\"><div class=\"sk-estimator sk-toggleable\"><input class=\"sk-toggleable__control sk-hidden--visually\" id=\"sk-estimator-id-3\" type=\"checkbox\" ><label for=\"sk-estimator-id-3\" class=\"sk-toggleable__label sk-toggleable__label-arrow\">RandomForestClassifier</label><div class=\"sk-toggleable__content\"><pre>RandomForestClassifier(random_state=69)</pre></div></div></div></div></div></div></div></div></div></div>"
            ]
          },
          "metadata": {},
          "execution_count": 52
        }
      ]
    },
    {
      "cell_type": "code",
      "source": [
        "best_params = grid_search.best_params_"
      ],
      "metadata": {
        "colab": {
          "base_uri": "https://localhost:8080/"
        },
        "id": "fefWcz9bLr91",
        "outputId": "a856cf1f-02ca-42d3-a97f-17780d571799"
      },
      "execution_count": 54,
      "outputs": [
        {
          "output_type": "execute_result",
          "data": {
            "text/plain": [
              "{'bootstrap': True,\n",
              " 'max_depth': 9,\n",
              " 'max_features': 'sqrt',\n",
              " 'min_samples_leaf': 2,\n",
              " 'min_samples_split': 2,\n",
              " 'n_estimators': 696}"
            ]
          },
          "metadata": {},
          "execution_count": 54
        }
      ]
    },
    {
      "cell_type": "code",
      "source": [
        "best_model = grid_search.best_estimator_\n",
        "predictions = best_model.predict(X_test)"
      ],
      "metadata": {
        "id": "FDTSjh1XMySb"
      },
      "execution_count": 55,
      "outputs": []
    },
    {
      "cell_type": "code",
      "source": [
        "best_model.fit(X, y)\n",
        "predictions = best_model.predict(X_test)"
      ],
      "metadata": {
        "id": "5qlq59O5M167"
      },
      "execution_count": 56,
      "outputs": []
    },
    {
      "cell_type": "code",
      "source": [
        "output = pd.DataFrame({\"PassengerId\": X_test.index, \"Survived\": predictions})\n",
        "output.to_csv(\"submission.csv\", index=False)"
      ],
      "metadata": {
        "id": "WwuHdJnRM5TT"
      },
      "execution_count": 57,
      "outputs": []
    },
    {
      "cell_type": "code",
      "source": [
        "best_model.feature_importances_"
      ],
      "metadata": {
        "colab": {
          "base_uri": "https://localhost:8080/"
        },
        "id": "FLW2rMF7Oilh",
        "outputId": "149aa43f-a175-4d39-fb8c-f70e5b9cc6cb"
      },
      "execution_count": 58,
      "outputs": [
        {
          "output_type": "execute_result",
          "data": {
            "text/plain": [
              "array([0.16245512, 0.39971722, 0.33326785, 0.08528578, 0.01927404])"
            ]
          },
          "metadata": {},
          "execution_count": 58
        }
      ]
    },
    {
      "cell_type": "code",
      "source": [
        "X_copy.columns"
      ],
      "metadata": {
        "colab": {
          "base_uri": "https://localhost:8080/"
        },
        "id": "shYWeJtbOnYO",
        "outputId": "e16390ea-95d6-4344-ef8c-03e5c740ad6d"
      },
      "execution_count": 60,
      "outputs": [
        {
          "output_type": "execute_result",
          "data": {
            "text/plain": [
              "Index(['Survived', 'Pclass', 'Name', 'Sex', 'Age', 'SibSp', 'Parch', 'Ticket',\n",
              "       'Fare', 'Cabin', 'Embarked'],\n",
              "      dtype='object')"
            ]
          },
          "metadata": {},
          "execution_count": 60
        }
      ]
    },
    {
      "cell_type": "code",
      "source": [
        "X_copy[[\"Ticket_Text\", \"Ticket_Nos\"]] = X_copy[\"Ticket\"].str.extract(r'([A-Za-z./]*)\\s*(\\d+)$')"
      ],
      "metadata": {
        "id": "XYl6O0GSPfTZ"
      },
      "execution_count": 61,
      "outputs": []
    },
    {
      "cell_type": "code",
      "source": [
        "X_test_copy[[\"Ticket_Text\", \"Ticket_Nos\"]] = X_test_copy[\"Ticket\"].str.extract(r'([A-Za-z./]*)\\s*(\\d+)$')"
      ],
      "metadata": {
        "id": "M3wMvUs9QGwG"
      },
      "execution_count": 65,
      "outputs": []
    },
    {
      "cell_type": "code",
      "source": [
        "X_copy.loc[X_copy[\"Ticket_Nos\"].isna()].index"
      ],
      "metadata": {
        "colab": {
          "base_uri": "https://localhost:8080/"
        },
        "id": "-igaX-xjPu_d",
        "outputId": "a276f439-14bf-487c-f902-17fe10a782e9"
      },
      "execution_count": 67,
      "outputs": [
        {
          "output_type": "execute_result",
          "data": {
            "text/plain": [
              "Index([180, 272, 303, 598], dtype='int64', name='PassengerId')"
            ]
          },
          "metadata": {},
          "execution_count": 67
        }
      ]
    },
    {
      "cell_type": "code",
      "source": [
        "X.drop([180, 272, 303, 598], axis=0, inplace=True)"
      ],
      "metadata": {
        "id": "a-fMlzqLQRtf"
      },
      "execution_count": 68,
      "outputs": []
    },
    {
      "cell_type": "code",
      "source": [
        "X_copy.drop([180, 272, 303, 598], axis=0, inplace=True)"
      ],
      "metadata": {
        "id": "MOTsYYdUQVCu"
      },
      "execution_count": 70,
      "outputs": []
    },
    {
      "cell_type": "code",
      "source": [
        "X_copy[\"Ticket_Nos\"] = X_copy[\"Ticket_Nos\"].astype(int)"
      ],
      "metadata": {
        "id": "6gOWETMHQbQ5"
      },
      "execution_count": 73,
      "outputs": []
    },
    {
      "cell_type": "code",
      "source": [
        "tick_nos = np.log(X_copy[\"Ticket_Nos\"])"
      ],
      "metadata": {
        "id": "GCEXu6qaRvpe"
      },
      "execution_count": 76,
      "outputs": []
    },
    {
      "cell_type": "code",
      "source": [
        "sns.boxplot(x = X_copy[\"Pclass\"], y = tick_nos)"
      ],
      "metadata": {
        "colab": {
          "base_uri": "https://localhost:8080/",
          "height": 466
        },
        "id": "1G03nbtuR8YD",
        "outputId": "c2388734-2158-461f-ea85-fcb20c7e8fb1"
      },
      "execution_count": 86,
      "outputs": [
        {
          "output_type": "execute_result",
          "data": {
            "text/plain": [
              "<Axes: xlabel='Pclass', ylabel='Ticket_Nos'>"
            ]
          },
          "metadata": {},
          "execution_count": 86
        },
        {
          "output_type": "display_data",
          "data": {
            "text/plain": [
              "<Figure size 640x480 with 1 Axes>"
            ],
            "image/png": "[encoded data removed]"
          },
          "metadata": {}
        }
      ]
    },
    {
      "cell_type": "code",
      "source": [
        "sns.boxplot(x = X_copy[\"Survived\"], y = tick_nos)"
      ],
      "metadata": {
        "colab": {
          "base_uri": "https://localhost:8080/",
          "height": 466
        },
        "id": "3hlzqWfbS8zu",
        "outputId": "51a3fe32-7c90-46a2-eb1a-31c0b2020ad1"
      },
      "execution_count": 85,
      "outputs": [
        {
          "output_type": "execute_result",
          "data": {
            "text/plain": [
              "<Axes: xlabel='Survived', ylabel='Ticket_Nos'>"
            ]
          },
          "metadata": {},
          "execution_count": 85
        },
        {
          "output_type": "display_data",
          "data": {
            "text/plain": [
              "<Figure size 640x480 with 1 Axes>"
            ],
            "image/png": "[encoded data removed]"
          },
          "metadata": {}
        }
      ]
    },
    {
      "cell_type": "code",
      "source": [
        "X[\"Ticket_Nos\"] = tick_nos"
      ],
      "metadata": {
        "id": "q8xqbcyiUoLy"
      },
      "execution_count": 87,
      "outputs": []
    },
    {
      "cell_type": "code",
      "source": [
        "X_test_copy[\"Ticket_Nos\"] = X_test_copy[\"Ticket_Nos\"].astype(int)\n",
        "test_tick_nos = np.log(X_test_copy[\"Ticket_Nos\"])\n",
        "X_test[\"Ticket_Nos\"] = test_tick_nos"
      ],
      "metadata": {
        "id": "ecWmP1oHVH9Y"
      },
      "execution_count": 94,
      "outputs": []
    },
    {
      "cell_type": "code",
      "source": [
        "y.drop([180, 272, 303, 598], inplace = True)"
      ],
      "metadata": {
        "id": "g1UOop5aUrEa"
      },
      "execution_count": 92,
      "outputs": []
    },
    {
      "cell_type": "code",
      "source": [
        "best_model.fit(X, y)\n",
        "predictions = best_model.predict(X_test)"
      ],
      "metadata": {
        "id": "ES-pHsAZU9cM"
      },
      "execution_count": 95,
      "outputs": []
    },
    {
      "cell_type": "code",
      "source": [
        "output = pd.DataFrame({\"PassengerId\": X_test.index, \"Survived\": predictions})\n",
        "output.to_csv(\"submission.csv\", index=False)"
      ],
      "metadata": {
        "id": "XcPOSxIrVetS"
      },
      "execution_count": 96,
      "outputs": []
    },
    {
      "cell_type": "code",
      "source": [
        "best_model.feature_importances_"
      ],
      "metadata": {
        "colab": {
          "base_uri": "https://localhost:8080/"
        },
        "id": "3NkIsaMjVqgO",
        "outputId": "94ebb24d-796a-4fda-bcfe-c22ddf584414"
      },
      "execution_count": 97,
      "outputs": [
        {
          "output_type": "execute_result",
          "data": {
            "text/plain": [
              "array([0.11565737, 0.35746355, 0.19529622, 0.06870472, 0.01992126,\n",
              "       0.24295688])"
            ]
          },
          "metadata": {},
          "execution_count": 97
        }
      ]
    },
    {
      "cell_type": "code",
      "source": [
        "X.drop([\"IsAlone\"], axis = 1, inplace = True)\n",
        "X_test.drop([\"IsAlone\"], axis = 1, inplace = True)"
      ],
      "metadata": {
        "id": "JZttHPEXVwQP"
      },
      "execution_count": 99,
      "outputs": []
    },
    {
      "cell_type": "code",
      "source": [
        "best_model.fit(X, y)\n",
        "predictions = best_model.predict(X_test)\n",
        "output = pd.DataFrame({\"PassengerId\": X_test.index, \"Survived\": predictions})\n",
        "output.to_csv(\"submission.csv\", index=False)"
      ],
      "metadata": {
        "id": "8a8gtjugV9xC"
      },
      "execution_count": 100,
      "outputs": []
    },
    {
      "cell_type": "code",
      "source": [
        "best_model.feature_importances_"
      ],
      "metadata": {
        "colab": {
          "base_uri": "https://localhost:8080/"
        },
        "id": "B9ktIbMGWKVQ",
        "outputId": "4437c162-0b96-41b4-aa41-278aa23a8c21"
      },
      "execution_count": 101,
      "outputs": [
        {
          "output_type": "execute_result",
          "data": {
            "text/plain": [
              "array([0.11802643, 0.36775622, 0.19555913, 0.08137515, 0.23728307])"
            ]
          },
          "metadata": {},
          "execution_count": 101
        }
      ]
    },
    {
      "cell_type": "code",
      "source": [
        "X[\"Fare\"] = np.log(X_copy[\"Fare\"] + 1)\n",
        "X_test[\"Fare\"] = np.log(X_test_copy[\"Fare\"] + 1)"
      ],
      "metadata": {
        "id": "N-9M9MFqWfqc"
      },
      "execution_count": 109,
      "outputs": []
    },
    {
      "cell_type": "code",
      "source": [
        "X[\"IsAlone\"] = (X['FamilySize'] == 1).astype(int)\n",
        "X_test[\"IsAlone\"] = (X_test['FamilySize'] == 1).astype(int)"
      ],
      "metadata": {
        "id": "FfOI4l15XCgb"
      },
      "execution_count": 111,
      "outputs": []
    },
    {
      "cell_type": "code",
      "source": [
        "X_test.Fare.fillna(X_test.Fare.mean(), inplace = True)"
      ],
      "metadata": {
        "id": "s9xCwXArXUEg"
      },
      "execution_count": 118,
      "outputs": []
    },
    {
      "cell_type": "code",
      "source": [
        "best_model.fit(X, y)\n",
        "predictions = best_model.predict(X_test)\n",
        "output = pd.DataFrame({\"PassengerId\": X_test.index, \"Survived\": predictions})\n",
        "output.to_csv(\"submission.csv\", index=False)"
      ],
      "metadata": {
        "id": "v3JaoaTqXzUo"
      },
      "execution_count": 119,
      "outputs": []
    },
    {
      "cell_type": "code",
      "source": [
        "best_model.feature_importances_"
      ],
      "metadata": {
        "colab": {
          "base_uri": "https://localhost:8080/"
        },
        "id": "sxFnoYcyX_wW",
        "outputId": "33fc1813-4aac-44e4-9768-0cc8d5481bb5"
      },
      "execution_count": 120,
      "outputs": [
        {
          "output_type": "execute_result",
          "data": {
            "text/plain": [
              "array([0.08701414, 0.33442657, 0.15448856, 0.0595087 , 0.17292057,\n",
              "       0.17703037, 0.01461109])"
            ]
          },
          "metadata": {},
          "execution_count": 120
        }
      ]
    },
    {
      "cell_type": "code",
      "source": [
        "from sklearn.impute import SimpleImputer"
      ],
      "metadata": {
        "id": "HLhWljJAYGDV"
      },
      "execution_count": 122,
      "outputs": []
    },
    {
      "cell_type": "code",
      "source": [
        "age = SimpleImputer(strategy='median')\n",
        "X['Age'] = age.fit_transform(X_copy[['Age']])\n",
        "X_test['Age'] = age.transform(X_test_copy[['Age']])"
      ],
      "metadata": {
        "id": "ueombKmfYX1A"
      },
      "execution_count": 125,
      "outputs": []
    },
    {
      "cell_type": "code",
      "source": [
        "best_model.fit(X, y)\n",
        "predictions = best_model.predict(X_test)\n",
        "output = pd.DataFrame({\"PassengerId\": X_test.index, \"Survived\": predictions})\n",
        "output.to_csv(\"submission.csv\", index=False)"
      ],
      "metadata": {
        "id": "KUWc_bPrYrKn"
      },
      "execution_count": 126,
      "outputs": []
    },
    {
      "cell_type": "code",
      "source": [
        "best_model.feature_importances_"
      ],
      "metadata": {
        "colab": {
          "base_uri": "https://localhost:8080/"
        },
        "id": "-9U_65EfZDiN",
        "outputId": "593358b7-b7e4-411e-a038-68f21fa6524f"
      },
      "execution_count": 127,
      "outputs": [
        {
          "output_type": "execute_result",
          "data": {
            "text/plain": [
              "array([0.08868931, 0.34254823, 0.13876081, 0.06041653, 0.17747945,\n",
              "       0.17779633, 0.01430934])"
            ]
          },
          "metadata": {},
          "execution_count": 127
        }
      ]
    },
    {
      "cell_type": "markdown",
      "source": [
        "Summary of 26/06/24: ['Pclass', 'Sex', 'Age', 'FamilySize', 'Ticket_Nos', 'Fare', 'IsAlone'] are important."
      ],
      "metadata": {
        "id": "OynSi8idZNTk"
      }
    },
    {
      "cell_type": "markdown",
      "source": [
        "Best way to preprocess each feature above:\n",
        "Pclass: No preprocessing,\n",
        "Sex: Simple Label Encoding,\n",
        "Age: Null values to be predicted by RandomForestRegressor,\n",
        "FamilySize: SibSp + Parch,\n",
        "Ticket_Nos: Extract numerical part from Ticket then transform by log,\n",
        "Fare: Take log of original Fares (in test set there's one row with null Fare; can be fit as per wish),\n",
        "IsAlone: If FamilySize is 1 value 1 else 0"
      ],
      "metadata": {
        "id": "KDZnJBQiZkHd"
      }
    },
    {
      "cell_type": "markdown",
      "source": [
        "Features not yet considered: Cabin (very difficult to consider), Embarked, Name, Ticket_Text (very difficult to consider)"
      ],
      "metadata": {
        "id": "oKzWLn_manhW"
      }
    }
  ]
}